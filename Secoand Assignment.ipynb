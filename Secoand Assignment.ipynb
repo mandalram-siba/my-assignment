{
 "cells": [
  {
   "cell_type": "markdown",
   "id": "5d0be5fa-5ca2-4a0d-a826-165811de513e",
   "metadata": {},
   "source": [
    "<!-- #Q1.\n",
    "    ANS ->Comments in Python are identified with a hash (#)symbol.\n",
    "        there are two ways to comment line.\n",
    "        1.Single line Comment\n",
    "        2.multi Line Comment -->\n"
   ]
  },
  {
   "cell_type": "code",
   "execution_count": null,
   "id": "93f818b2-1fc9-4bb8-a4ab-46457e38ac83",
   "metadata": {},
   "outputs": [],
   "source": [
    "Q1.in python we  commnet a line using hash(#) key word .\n",
    "    in python there were two way to comment execute.\n",
    "    1.single line Comment\n",
    "    2.Multiline Comment"
   ]
  },
  {
   "cell_type": "code",
   "execution_count": 2,
   "id": "49ab10d3-6713-4951-9f40-12cde644cbfe",
   "metadata": {},
   "outputs": [],
   "source": [
    "Q2.\n",
    "ANS -> Variables are coantainers for storing data values \n",
    "        A variable is created the moment you first assign a value to it.\n",
    "example a=20;\n",
    "        a is a variable and 20 is value to assign it."
   ]
  },
  {
   "cell_type": "code",
   "execution_count": 11,
   "id": "628cc78f-c230-4794-8558-e2025ec4cc7e",
   "metadata": {},
   "outputs": [
    {
     "name": "stdout",
     "output_type": "stream",
     "text": [
      "<class 'str'>\n"
     ]
    }
   ],
   "source": [
    "Q3.\n",
    "ANS ->\n",
    "    To covert one data type to another data type the method is called type caste method.\n",
    "    To convert one data type to another data type use name as a function.\n",
    "    there are two ways to convert one data type to another data type \n",
    "    1. implicitly\n",
    "    2. explicitly\n",
    "    \n",
    "    Example:\n",
    "        a=20\n",
    "print(type(str(a))) #this line implicitly convert int to string"
   ]
  },
  {
   "cell_type": "code",
   "execution_count": null,
   "id": "a0aea9a5-0c71-4975-aa78-03f7199a3cbb",
   "metadata": {},
   "outputs": [],
   "source": [
    "Q4.\n",
    "ANS -> OPEN comand prompt then set your path where your file save and then type word python followed by the path to your script file.\n",
    "exapmle python hello.py"
   ]
  },
  {
   "cell_type": "code",
   "execution_count": 21,
   "id": "9e898727-2536-44dc-a3b0-c74015ae5783",
   "metadata": {},
   "outputs": [
    {
     "name": "stdout",
     "output_type": "stream",
     "text": [
      "[2, 3]\n"
     ]
    }
   ],
   "source": [
    "# Q5.\n",
    "my_list=[1,2,3,4,5]\n",
    "sub_list=my_list[1:3]\n",
    "print(sub_list)"
   ]
  },
  {
   "cell_type": "code",
   "execution_count": null,
   "id": "c6a21dd8-2149-49fd-a5a9-61e8d327706f",
   "metadata": {},
   "outputs": [],
   "source": [
    "# Q6.\n",
    "COMPLEX NUMBER are the number that expressed in the form of a+ib. where a is a real number and b is imaginary number.\n",
    "and in python we can write like e=a+bj"
   ]
  },
  {
   "cell_type": "code",
   "execution_count": 1,
   "id": "b08f5620-df0b-4257-ad69-b8f5476a2154",
   "metadata": {},
   "outputs": [
    {
     "name": "stdout",
     "output_type": "stream",
     "text": [
      "age 25\n"
     ]
    }
   ],
   "source": [
    "# Q7.\n",
    "age=25\n",
    "print(f\"age {age}\")"
   ]
  },
  {
   "cell_type": "code",
   "execution_count": 13,
   "id": "5564cfd3-fb25-4dc8-aae8-03e94fb642e9",
   "metadata": {},
   "outputs": [
    {
     "name": "stdout",
     "output_type": "stream",
     "text": [
      "<class 'float'>\n"
     ]
    }
   ],
   "source": [
    "# Q8.\n",
    "price =9.99\n",
    "print(type(price))"
   ]
  },
  {
   "cell_type": "code",
   "execution_count": 6,
   "id": "44adf15c-ef32-46d3-a92d-7133a93a85da",
   "metadata": {},
   "outputs": [
    {
     "name": "stdout",
     "output_type": "stream",
     "text": [
      "sibaram mandal\n"
     ]
    }
   ],
   "source": [
    "#Q9.\n",
    "name=\"sibaram mandal\"\n",
    "print(name)"
   ]
  },
  {
   "cell_type": "code",
   "execution_count": 8,
   "id": "2b897525-319f-4d57-8a05-14b04e07403e",
   "metadata": {},
   "outputs": [
    {
     "name": "stdout",
     "output_type": "stream",
     "text": [
      "World\n"
     ]
    }
   ],
   "source": [
    "#Q10.\n",
    "string = \"Hello, World!\"\n",
    "sub_string = string[7:12]\n",
    "print(sub_string)"
   ]
  },
  {
   "cell_type": "code",
   "execution_count": 18,
   "id": "8b2f9518-31eb-4d9c-ba5c-58a495da22aa",
   "metadata": {},
   "outputs": [
    {
     "name": "stdout",
     "output_type": "stream",
     "text": [
      "he is student\n"
     ]
    }
   ],
   "source": [
    "# Q11.\n",
    "is_student = True\n",
    "if is_student == True :\n",
    "    print(\"he is a student\")\n",
    "else :\n",
    "    print(\"he is not a student\")"
   ]
  }
 ],
 "metadata": {
  "kernelspec": {
   "display_name": "Python 3 (ipykernel)",
   "language": "python",
   "name": "python3"
  },
  "language_info": {
   "codemirror_mode": {
    "name": "ipython",
    "version": 3
   },
   "file_extension": ".py",
   "mimetype": "text/x-python",
   "name": "python",
   "nbconvert_exporter": "python",
   "pygments_lexer": "ipython3",
   "version": "3.10.8"
  }
 },
 "nbformat": 4,
 "nbformat_minor": 5
}
