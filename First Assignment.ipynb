{
 "cells": [
  {
   "cell_type": "code",
   "execution_count": 25,
   "id": "40ae7e49-6d64-497e-a373-ed4e21d05687",
   "metadata": {},
   "outputs": [],
   "source": [
    "mixed_variable=[\"sibaram\",[\"apple\",\"orange\",\"banana\"],4.56,(1,2,3)]"
   ]
  },
  {
   "cell_type": "code",
   "execution_count": 27,
   "id": "e089ba69-ca5d-4310-9900-fd71bdfb4ff6",
   "metadata": {},
   "outputs": [
    {
     "name": "stdout",
     "output_type": "stream",
     "text": [
      "<class 'str'>\n",
      "<class 'str'>\n",
      "<class 'list'>\n",
      "<class 'float'>\n"
     ]
    }
   ],
   "source": [
    "var1=''\n",
    "var2='[DS,ML,python]'\n",
    "var3=['DS','ML','Python']\n",
    "var4 = 1.\n",
    "print(type(var1))\n",
    "print(type(var2))\n",
    "print(type(var3))\n",
    "print(type(var4))"
   ]
  },
  {
   "cell_type": "code",
   "execution_count": 34,
   "id": "a2d75b0e-2ed3-43e5-a2f6-8389dac7c1b5",
   "metadata": {},
   "outputs": [
    {
     "name": "stdout",
     "output_type": "stream",
     "text": [
      "5.0\n",
      "0\n",
      "5\n",
      "160000\n"
     ]
    }
   ],
   "source": [
    "a=20\n",
    "b=4\n",
    "print(a/b)\n",
    "print(a%b)\n",
    "print(a//b)\n",
    "print(a**b)"
   ]
  },
  {
   "cell_type": "code",
   "execution_count": 51,
   "id": "908eb149-28b6-48db-99be-2038f1bcaef5",
   "metadata": {},
   "outputs": [
    {
     "name": "stdout",
     "output_type": "stream",
     "text": [
      "sibaram\n",
      "<class 'str'>\n",
      "1\n",
      "<class 'int'>\n",
      "2\n",
      "<class 'int'>\n",
      "3\n",
      "<class 'int'>\n",
      "4\n",
      "<class 'int'>\n",
      "3.2\n",
      "<class 'float'>\n",
      "2.5\n",
      "<class 'float'>\n",
      "3.6\n",
      "<class 'float'>\n",
      "(4, 5, 6)\n",
      "<class 'tuple'>\n",
      "{'apple', 'banan', 'orange'}\n",
      "<class 'set'>\n"
     ]
    }
   ],
   "source": [
    "l=[\"sibaram\",1,2,3,4,3.2,2.5,3.6,(4,5,6),{\"apple\",\"banan\",\"orange\"}]\n",
    "for i in l:\n",
    "    print(i)\n",
    "    print(type(i))"
   ]
  },
  {
   "cell_type": "code",
   "execution_count": 56,
   "id": "811dd299-5df6-4a4f-824f-fec9db7ecb75",
   "metadata": {},
   "outputs": [
    {
     "name": "stdout",
     "output_type": "stream",
     "text": [
      "1\n",
      "2\n"
     ]
    }
   ],
   "source": [
    "a=50\n",
    "b=5\n",
    "count=0\n",
    "while(a%b==0):\n",
    "    a=a//b\n",
    "    count+=1\n",
    "    print(count)"
   ]
  },
  {
   "cell_type": "code",
   "execution_count": 9,
   "id": "a5270c8d-a459-474d-b418-421241375722",
   "metadata": {},
   "outputs": [
    {
     "name": "stdout",
     "output_type": "stream",
     "text": [
      "3  is divisible by 3 \n",
      "5  is not divisible by 3\n",
      "6  is divisible by 3 \n",
      "7  is not divisible by 3\n",
      "9  is divisible by 3 \n",
      "12  is divisible by 3 \n",
      "14  is not divisible by 3\n",
      "15  is divisible by 3 \n",
      "16  is not divisible by 3\n",
      "18  is divisible by 3 \n",
      "20  is not divisible by 3\n",
      "22  is not divisible by 3\n",
      "24  is divisible by 3 \n",
      "25  is not divisible by 3\n",
      "27  is divisible by 3 \n",
      "28  is not divisible by 3\n",
      "30  is divisible by 3 \n",
      "31  is not divisible by 3\n",
      "32  is not divisible by 3\n",
      "33  is divisible by 3 \n",
      "35  is not divisible by 3\n",
      "36  is divisible by 3 \n",
      "37  is not divisible by 3\n",
      "38  is not divisible by 3\n",
      "39  is divisible by 3 \n"
     ]
    }
   ],
   "source": [
    "l1=[3,5,6,7,9,12,14,15,16,18,20,22,24,25,27,28,30,31,32,33,35,36,37,38,39]\n",
    "for i in l1:\n",
    "    if i % 3==0:\n",
    "        print(str(i)+\"  is divisible by 3 \")\n",
    "    else:\n",
    "        print(str(i)+\"  is not divisible by 3\")"
   ]
  },
  {
   "cell_type": "code",
   "execution_count": 12,
   "id": "bdb9a8fc-8434-449a-bd55-697addba046d",
   "metadata": {},
   "outputs": [
    {
     "name": "stdout",
     "output_type": "stream",
     "text": [
      "[5, 6, 6, 963, 'ram', 'pwskill', 'my lear']\n"
     ]
    },
    {
     "ename": "TypeError",
     "evalue": "'str' object does not support item assignment",
     "output_type": "error",
     "traceback": [
      "\u001b[0;31m---------------------------------------------------------------------------\u001b[0m",
      "\u001b[0;31mTypeError\u001b[0m                                 Traceback (most recent call last)",
      "Cell \u001b[0;32mIn[13], line 5\u001b[0m\n\u001b[1;32m      3\u001b[0m my_list[\u001b[38;5;241m4\u001b[39m]\u001b[38;5;241m=\u001b[39m\u001b[38;5;124m\"\u001b[39m\u001b[38;5;124mram\u001b[39m\u001b[38;5;124m\"\u001b[39m\n\u001b[1;32m      4\u001b[0m \u001b[38;5;28mprint\u001b[39m(my_list)\n\u001b[0;32m----> 5\u001b[0m \u001b[43mmy_name\u001b[49m\u001b[43m[\u001b[49m\u001b[38;5;241;43m2\u001b[39;49m\u001b[43m]\u001b[49m\u001b[38;5;241m=\u001b[39mi\n\u001b[1;32m      6\u001b[0m \u001b[38;5;66;03m#print(my_name)\u001b[39;00m\n",
      "\u001b[0;31mTypeError\u001b[0m: 'str' object does not support item assignment"
     ]
    }
   ],
   "source": [
    "my_name =\"siba\"\n",
    "my_list=[5,6,6,963,9.5,\"pwskill\",\"my lear\"]\n",
    "my_list[4]=\"ram\"\n",
    "print(my_list) #list are mutable because \n",
    "#my_name[2]=i this line shows error because string are mutable we cannot modify \n",
    "print(my_name)"
   ]
  }
 ],
 "metadata": {
  "kernelspec": {
   "display_name": "Python 3 (ipykernel)",
   "language": "python",
   "name": "python3"
  },
  "language_info": {
   "codemirror_mode": {
    "name": "ipython",
    "version": 3
   },
   "file_extension": ".py",
   "mimetype": "text/x-python",
   "name": "python",
   "nbconvert_exporter": "python",
   "pygments_lexer": "ipython3",
   "version": "3.10.8"
  }
 },
 "nbformat": 4,
 "nbformat_minor": 5
}
