{
 "cells": [
  {
   "cell_type": "code",
   "execution_count": null,
   "id": "98e975ca",
   "metadata": {},
   "outputs": [],
   "source": [
    "Q1. Create a python program to sort the given list of tuples based on integer value using a\n",
    "lambda function.\n",
    "[('Sachin Tendulkar', 34357), ('Ricky Ponting', 27483), ('Jack Kallis', 25534), ('Virat Kohli', 24936)]"
   ]
  },
  {
   "cell_type": "code",
   "execution_count": 64,
   "id": "fa3e4e82-e8a0-4044-ab0c-d5f17a9c1fcc",
   "metadata": {},
   "outputs": [
    {
     "name": "stdout",
     "output_type": "stream",
     "text": [
      "players list\n",
      "[('Sachin Tendulkar', 34357), ('Ricky Ponting', 27483), ('Jack Kallis', 25534), ('Virat kohli', 24936)]\n",
      "after sorting the players list\n",
      "[('Virat kohli', 24936), ('Jack Kallis', 25534), ('Ricky Ponting', 27483), ('Sachin Tendulkar', 34357)]\n"
     ]
    }
   ],
   "source": [
    "# Q1 Ans:-\n",
    "players=[(\"Sachin Tendulkar\",34357),(\"Ricky Ponting\",27483),(\"Jack Kallis\",25534),(\"Virat kohli\",24936)]\n",
    "print(\"players list\")\n",
    "print(players)\n",
    "players.sort(key=lambda x:x[1])\n",
    "print(\"after sorting the players list\")\n",
    "print(players)"
   ]
  },
  {
   "cell_type": "code",
   "execution_count": null,
   "id": "1823bfb4-7321-4db6-a9cf-cb674630cd98",
   "metadata": {},
   "outputs": [],
   "source": [
    "Q2. Write a Python Program to find the squares of all the numbers in the given list of integers using\n",
    "lambda and map functions.\n",
    "[1, 2, 3, 4, 5, 6, 7, 8, 9, 10]"
   ]
  },
  {
   "cell_type": "code",
   "execution_count": 62,
   "id": "c2eaef6d-5012-48c2-8034-e28c69a09b47",
   "metadata": {},
   "outputs": [
    {
     "name": "stdout",
     "output_type": "stream",
     "text": [
      "The Numbers of list:-[1, 2, 3, 4, 5, 6, 7, 8, 9, 10]\n",
      "the sqare of number:-[1, 4, 9, 16, 25, 36, 49, 64, 81, 100]\n"
     ]
    }
   ],
   "source": [
    "# Q2 Ans:-\n",
    "number=[1,2,3,4,5,6,7,8,9,10]\n",
    "print(f\"The Numbers of list:-{number}\")\n",
    "Sq_number=(map(lambda x:x**2,number))\n",
    "print(f\"the sqare of number:-{list(Sq_number)}\")"
   ]
  },
  {
   "cell_type": "code",
   "execution_count": null,
   "id": "6a34efcb-0624-438f-8c63-62076356b4f5",
   "metadata": {},
   "outputs": [],
   "source": [
    "Q3. Write a python program to convert the given list of integers into a tuple of strings. Use map and\n",
    "lambda functions.\n",
    "Given String: [1, 2, 3, 4, 5, 6, 7, 8, 9, 10]\n",
    "Expected output: ('1', '2', '3', '4', '5', '6', '7', '8', '9', '10')"
   ]
  },
  {
   "cell_type": "code",
   "execution_count": 55,
   "id": "f49ade4a-4300-4535-b448-0b67ed71482d",
   "metadata": {},
   "outputs": [
    {
     "name": "stdout",
     "output_type": "stream",
     "text": [
      "Integers\n",
      "[1, 2, 3, 4, 5, 6, 7, 8, 9, 10]\n",
      "To convert integers to tuple of string\n",
      "('1', '2', '3', '4', '5', '6', '7', '8', '9', '10')\n"
     ]
    }
   ],
   "source": [
    "# Q3 Ans:-\n",
    "integers=[1,2,3,4,5,6,7,8,9,10]\n",
    "print(\"Integers\")\n",
    "print(integers)\n",
    "to_convert_tuple_str=tuple(map(lambda x:str(x),integers))\n",
    "print(\"To convert integers to tuple of string\")\n",
    "print(to_convert_tuple_str)"
   ]
  },
  {
   "cell_type": "code",
   "execution_count": null,
   "id": "06b06b24-50fe-4622-ac74-489447c24e8a",
   "metadata": {},
   "outputs": [],
   "source": [
    "Q4. Write a python program using reduce function to compute the product of a list containing numbers\n",
    "from 1 to 25."
   ]
  },
  {
   "cell_type": "code",
   "execution_count": 52,
   "id": "00895aa5-d521-46ba-8c39-cdaae8cc3b5e",
   "metadata": {},
   "outputs": [
    {
     "name": "stdout",
     "output_type": "stream",
     "text": [
      "[1, 2, 3, 4, 5, 6, 7, 8, 9, 10, 11, 12, 13, 14, 15, 16, 17, 18, 19, 20, 21, 22, 23, 24, 25] the product of list\n",
      "15511210043330985984000000\n"
     ]
    }
   ],
   "source": [
    "# Q4.Ans:-\n",
    "from functools import reduce\n",
    "number=list(range(1,26))\n",
    "product=reduce(lambda x,y:x*y,number)\n",
    "print(f\"{number} the product of list\")\n",
    "print(product)\n"
   ]
  },
  {
   "cell_type": "code",
   "execution_count": null,
   "id": "52a3c4af-7567-4493-800d-95dc840701ad",
   "metadata": {},
   "outputs": [],
   "source": [
    "Q5. Write a python program to filter the numbers in a given list that are divisible by 2 and 3 using the\n",
    "filter function.\n",
    "[2, 3, 6, 9, 27, 60, 90, 120, 55, 46]"
   ]
  },
  {
   "cell_type": "code",
   "execution_count": 51,
   "id": "308aed12-69f6-4bc2-9467-623a8799a12d",
   "metadata": {},
   "outputs": [
    {
     "name": "stdout",
     "output_type": "stream",
     "text": [
      "original list\n",
      "[2, 3, 6, 9, 27, 60, 90, 120, 55, 46]\n",
      "after filter list\n",
      "[2, 6, 60, 90, 120, 46]\n"
     ]
    }
   ],
   "source": [
    "list3=[2, 3, 6, 9, 27, 60, 90, 120, 55, 46]\n",
    "print(\"original list\")\n",
    "print(list3)\n",
    "filter_list3=list(filter(lambda x: x%2==0 & x%3==0,list3))\n",
    "print(\"after filter list\")\n",
    "print(filter_list3)"
   ]
  },
  {
   "cell_type": "code",
   "execution_count": null,
   "id": "a494eb16-0cbd-450f-b0a3-b90bc27548df",
   "metadata": {},
   "outputs": [],
   "source": [
    "Q6. Write a python program to find palindromes in the given list of strings using lambda and filter\n",
    "function.\n",
    "['python', 'php', 'aba', 'radar', 'level']"
   ]
  },
  {
   "cell_type": "code",
   "execution_count": 38,
   "id": "d0f46e30-ae0b-43da-9154-08b109f8c1dd",
   "metadata": {},
   "outputs": [
    {
     "name": "stdout",
     "output_type": "stream",
     "text": [
      "python : is not paldrome\n",
      "php : is palidrome \n",
      "aba : is palidrome \n",
      "radar : is palidrome \n",
      "level : is palidrome \n"
     ]
    }
   ],
   "source": [
    "# Q6.Ans:-\n",
    "l4=['python', 'php', 'aba', 'radar', 'level']\n",
    "for word in l4:\n",
    "    word=str(word)\n",
    "    if word[0]==word[-1]:\n",
    "        print(f\"{word} : is palidrome \")\n",
    "    else:\n",
    "        print(f\"{word} : is not paldrome\")"
   ]
  },
  {
   "cell_type": "code",
   "execution_count": 63,
   "id": "f9aa0cb5",
   "metadata": {},
   "outputs": [
    {
     "name": "stdout",
     "output_type": "stream",
     "text": [
      "original list\n",
      "['python', 'php', 'aba', 'radar', 'level']\n",
      "the palindromes are\n",
      "['php', 'aba', 'radar', 'level']\n"
     ]
    }
   ],
   "source": [
    "# Q6 Ans:-\n",
    "l4=['python', 'php', 'aba', 'radar', 'level']\n",
    "print(\"original list\")\n",
    "print(l4)\n",
    "filter_l4=list(filter(lambda x:(x == \"\".join(reversed(x))),l4))\n",
    "print(\"the palindromes are\")\n",
    "print(filter_l4)\n"
   ]
  },
  {
   "cell_type": "code",
   "execution_count": null,
   "id": "5a95f1bf",
   "metadata": {},
   "outputs": [],
   "source": []
  }
 ],
 "metadata": {
  "kernelspec": {
   "display_name": "Python 3 (ipykernel)",
   "language": "python",
   "name": "python3"
  },
  "language_info": {
   "codemirror_mode": {
    "name": "ipython",
    "version": 3
   },
   "file_extension": ".py",
   "mimetype": "text/x-python",
   "name": "python",
   "nbconvert_exporter": "python",
   "pygments_lexer": "ipython3",
   "version": "3.11.3"
  }
 },
 "nbformat": 4,
 "nbformat_minor": 5
}
