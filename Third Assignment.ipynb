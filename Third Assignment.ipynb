{
 "cells": [
  {
   "cell_type": "code",
   "execution_count": null,
   "id": "63126dc5-c15c-4f86-95b7-d73f3146b0da",
   "metadata": {},
   "outputs": [],
   "source": [
    "Q1.Which keyword is used to create a function?\n",
    "Ans i. def keyword is used to create a function."
   ]
  },
  {
   "cell_type": "code",
   "execution_count": 22,
   "id": "2efeebae-365a-443c-bba3-b91e737fc358",
   "metadata": {},
   "outputs": [],
   "source": [
    "# Q1. \n",
    "#     ii.Create a function to return a list of odd numbers in the range of 1 to 25.\n",
    "    # ANS\n",
    "def oddnum():\n",
    "    odd_num=[]\n",
    "    for i in range(1,26):\n",
    "        if i%2 !=0:\n",
    "            odd_num.append(i)\n",
    "    return odd_num"
   ]
  },
  {
   "cell_type": "code",
   "execution_count": 24,
   "id": "97dcbc25-42d8-43cd-83d5-deb460896624",
   "metadata": {},
   "outputs": [
    {
     "name": "stdout",
     "output_type": "stream",
     "text": [
      "[1, 3, 5, 7, 9, 11, 13, 15, 17, 19, 21, 23, 25]\n"
     ]
    }
   ],
   "source": [
    "resualt=oddnum()\n",
    "print(resualt)"
   ]
  },
  {
   "cell_type": "code",
   "execution_count": null,
   "id": "aa3dd421-b961-4df0-b7b8-6da02e9a2ab4",
   "metadata": {},
   "outputs": [],
   "source": [
    "Q2. Why *args and **kwargs is used in some functions\n",
    "Ans i. you can use *args and *kwargs in function when you are ensure number of argumnets  pass  in \n",
    "    the function."
   ]
  },
  {
   "cell_type": "code",
   "execution_count": 25,
   "id": "b2c731ce-ed79-4664-aedd-7827eb8224e8",
   "metadata": {},
   "outputs": [],
   "source": [
    "# Q2. Create a function each for *args and **kwargsto demonstrate their use.\n",
    "# Ans ii.\n",
    "def arg(*args):\n",
    "    l=[]\n",
    "    l.append(args)\n",
    "    return l"
   ]
  },
  {
   "cell_type": "code",
   "execution_count": 27,
   "id": "1cb224a0-fcf7-4d89-8f25-521e69085bed",
   "metadata": {},
   "outputs": [
    {
     "name": "stdout",
     "output_type": "stream",
     "text": [
      "[('sibaram', 15, 14, 'jay sri ram')]\n"
     ]
    }
   ],
   "source": [
    "show=arg(\"sibaram\",15,14,\"jay sri ram\")\n",
    "print(show)"
   ]
  },
  {
   "cell_type": "code",
   "execution_count": 28,
   "id": "f2a435ef-daac-4120-aba2-2f73634d08cc",
   "metadata": {},
   "outputs": [],
   "source": [
    "def kwargs(*kwargs):\n",
    "        dict=[]\n",
    "    return dict"
   ]
  },
  {
   "cell_type": "code",
   "execution_count": 30,
   "id": "9f38f123-34dd-4422-8ca3-6509b5be8cf6",
   "metadata": {},
   "outputs": [
    {
     "name": "stdout",
     "output_type": "stream",
     "text": [
      "69\n"
     ]
    }
   ],
   "source": [
    "show1=kwargs()\n",
    "print(show1)"
   ]
  },
  {
   "cell_type": "code",
   "execution_count": null,
   "id": "662d89fa-2465-4d2d-8380-0d6d27639bda",
   "metadata": {},
   "outputs": [],
   "source": [
    "Q3. What is an iterator in python\n",
    "Ans-> in python itrerator is an object that allows you to itrate  over collection of data such as\n",
    "        lists,tuples,dictionaries,and sets."
   ]
  },
  {
   "cell_type": "code",
   "execution_count": null,
   "id": "b02779d9-5f66-4c01-9788-b3ff0a6f95a0",
   "metadata": {},
   "outputs": [],
   "source": [
    "# Q3.Name the method used to initialise the iterator object and the method\n",
    "#  used for iteration. Use these methods to print the first five elements of the given list \n",
    "# [2, 4, 6, 8, 10, 12, 14,16, 18, 20].\n"
   ]
  },
  {
   "cell_type": "code",
   "execution_count": null,
   "id": "3f9e0628-92c1-4c17-b3aa-4f4139e45c69",
   "metadata": {},
   "outputs": [],
   "source": [
    "Q4.What is generator function?\n",
    "Ans:->Generator function is a normal function when ever we didn,t use yield keyword. but when we\n",
    "use yield keyword instaed of return keyword that function becomes generator function.\n",
    "->if the body of def contain yield , the function becomes generator function.\n",
    "ii> the yield keyword is create a generators."
   ]
  },
  {
   "cell_type": "code",
   "execution_count": 2,
   "id": "ae381b42-3acb-433d-99e2-5d868b219c95",
   "metadata": {},
   "outputs": [],
   "source": [
    "def test_fib(n):\n",
    "    a,b = 0,1\n",
    "    for i in range(n):\n",
    "        yield a \n",
    "        a,b = b , a+b"
   ]
  },
  {
   "cell_type": "code",
   "execution_count": 3,
   "id": "b65567c5-2239-479d-a2e7-b8075dc20c6e",
   "metadata": {},
   "outputs": [
    {
     "name": "stdout",
     "output_type": "stream",
     "text": [
      "0\n",
      "1\n",
      "1\n",
      "2\n",
      "3\n",
      "5\n",
      "8\n",
      "13\n",
      "21\n",
      "34\n"
     ]
    }
   ],
   "source": [
    "for i in test_fib(10):\n",
    "    print(i)"
   ]
  },
  {
   "cell_type": "code",
   "execution_count": null,
   "id": "ef0ae25c-5933-4874-a108-9103384aa198",
   "metadata": {},
   "outputs": [],
   "source": [
    "Q5.Create a generator function for prime numbers less than 1000. Use the next() method to print the\n",
    "first 20 prime numbers."
   ]
  },
  {
   "cell_type": "code",
   "execution_count": 6,
   "id": "84e80355-f9b4-4fa3-824f-573070df0b06",
   "metadata": {},
   "outputs": [
    {
     "name": "stdout",
     "output_type": "stream",
     "text": [
      "2\n",
      "3\n",
      "5\n",
      "7\n",
      "11\n",
      "13\n",
      "17\n",
      "19\n",
      "23\n",
      "29\n",
      "31\n",
      "37\n",
      "41\n",
      "43\n",
      "47\n",
      "53\n",
      "59\n",
      "61\n",
      "67\n",
      "71\n"
     ]
    }
   ],
   "source": [
    "def prime_generator():\n",
    "    primes = []\n",
    "    num = 2\n",
    "\n",
    "    while num < 1000:\n",
    "        is_prime = True\n",
    "\n",
    "        for prime in primes:\n",
    "            if num % prime == 0:\n",
    "                is_prime = False\n",
    "                break\n",
    "\n",
    "        if is_prime:\n",
    "            primes.append(num)\n",
    "            yield num\n",
    "\n",
    "        num += 1\n",
    "\n",
    "\n",
    "prime_gen = prime_generator()\n",
    "\n",
    "for _ in range(20):\n",
    "    print(next(prime_gen))\n"
   ]
  },
  {
   "cell_type": "code",
   "execution_count": null,
   "id": "6e07ba01-0503-4dcd-b931-2dd9165b479e",
   "metadata": {},
   "outputs": [],
   "source": [
    "Q6.Write a python program to print the first 10 Fibonacci numbers using a while loop"
   ]
  },
  {
   "cell_type": "code",
   "execution_count": 12,
   "id": "7950644c-7d80-4083-b243-616b56007bb7",
   "metadata": {},
   "outputs": [],
   "source": [
    "def get_fib(n):\n",
    "    a,b=0,1\n",
    "    for i in range(n):\n",
    "        yield a\n",
    "        a,b=b,a+b"
   ]
  },
  {
   "cell_type": "code",
   "execution_count": 16,
   "id": "6860628c-0545-4593-957b-8add796bd818",
   "metadata": {},
   "outputs": [
    {
     "name": "stdout",
     "output_type": "stream",
     "text": [
      "0\n",
      "1\n",
      "1\n",
      "2\n",
      "3\n",
      "5\n",
      "8\n",
      "13\n",
      "21\n",
      "34\n"
     ]
    }
   ],
   "source": [
    "for i in get_fib(10):\n",
    "    print(i)"
   ]
  },
  {
   "cell_type": "code",
   "execution_count": null,
   "id": "b358981e-c06d-4307-a5b3-d155fd103577",
   "metadata": {},
   "outputs": [],
   "source": [
    "Q7.Write a List Comprehension to iterate through the given string: ‘pwskills’.\n",
    "\n",
    "Expected output: ['p', 'w', 's', 'k', 'i', 'l', 'l', 's']"
   ]
  },
  {
   "cell_type": "code",
   "execution_count": 4,
   "id": "594287f0-7a8e-4a6d-a24d-26b8b694eb9b",
   "metadata": {},
   "outputs": [
    {
     "name": "stdout",
     "output_type": "stream",
     "text": [
      "['p', 'w', 's', 'k', 'i', 'l', 'l', 's']\n"
     ]
    }
   ],
   "source": [
    "string=iter(\"pwskills\")\n",
    "list1=[]\n",
    "type(string)\n",
    "for i in string:\n",
    "    list1.append(i)\n",
    "print(list1)"
   ]
  },
  {
   "cell_type": "code",
   "execution_count": null,
   "id": "549fcdda-d66a-4b3c-8447-e7f42e9ddfa0",
   "metadata": {},
   "outputs": [],
   "source": [
    "Q8.Write a python program to check whether a given number is Palindrome or not using a while loop."
   ]
  },
  {
   "cell_type": "code",
   "execution_count": 12,
   "id": "100f9ce7-cb69-46b2-b2e9-8305656ceb07",
   "metadata": {},
   "outputs": [
    {
     "name": "stdin",
     "output_type": "stream",
     "text": [
      "enter a number 808\n"
     ]
    },
    {
     "name": "stdout",
     "output_type": "stream",
     "text": [
      "this number is palindrome number\n"
     ]
    }
   ],
   "source": [
    "num1=int(input(\"enter a number\"))\n",
    "rev=0\n",
    "temp=num1\n",
    "while temp>0:\n",
    "    digit=temp%10\n",
    "    rev=rev*10+digit\n",
    "    temp=temp//10\n",
    "if(rev==num1):\n",
    "    print(f{num1})\n",
    "else:\n",
    "    print(\"this number is not palindrome number\")"
   ]
  },
  {
   "cell_type": "code",
   "execution_count": null,
   "id": "113687da-1e6d-442f-8f4c-5d4e937c0011",
   "metadata": {},
   "outputs": [],
   "source": [
    "Q9. Write a code to print odd numbers from 1 to 100 using list comprehension."
   ]
  },
  {
   "cell_type": "code",
   "execution_count": 32,
   "id": "cd4239c9-3dc3-455e-ad8e-29d31105c158",
   "metadata": {},
   "outputs": [
    {
     "name": "stdout",
     "output_type": "stream",
     "text": [
      "[1, 3, 5, 7, 9, 11, 13, 15, 17, 19, 21, 23, 25, 27, 29, 31, 33, 35, 37, 39, 41, 43, 45, 47, 49, 51, 53, 55, 57, 59, 61, 63, 65, 67, 69, 71, 73, 75, 77, 79, 81, 83, 85, 87, 89, 91, 93, 95, 97, 99]\n"
     ]
    }
   ],
   "source": [
    "number=[num for num in range(1,101)]\n",
    "odd_num=[num for num in number if num%2!=0]\n",
    "print(odd_num)"
   ]
  },
  {
   "cell_type": "code",
   "execution_count": null,
   "id": "3bc64f46-38e4-4d40-aa6a-bffd996fac7d",
   "metadata": {},
   "outputs": [],
   "source": []
  }
 ],
 "metadata": {
  "kernelspec": {
   "display_name": "Python 3 (ipykernel)",
   "language": "python",
   "name": "python3"
  },
  "language_info": {
   "codemirror_mode": {
    "name": "ipython",
    "version": 3
   },
   "file_extension": ".py",
   "mimetype": "text/x-python",
   "name": "python",
   "nbconvert_exporter": "python",
   "pygments_lexer": "ipython3",
   "version": "3.10.8"
  }
 },
 "nbformat": 4,
 "nbformat_minor": 5
}
